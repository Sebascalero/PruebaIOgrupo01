{
  "nbformat": 4,
  "nbformat_minor": 0,
  "metadata": {
    "colab": {
      "provenance": [],
      "authorship_tag": "ABX9TyPmKYow3dtjj8eLZzyjUjyb",
      "include_colab_link": true
    },
    "kernelspec": {
      "name": "python3",
      "display_name": "Python 3"
    },
    "language_info": {
      "name": "python"
    }
  },
  "cells": [
    {
      "cell_type": "markdown",
      "metadata": {
        "id": "view-in-github",
        "colab_type": "text"
      },
      "source": [
        "<a href=\"https://colab.research.google.com/github/Sebascalero/PruebaIOgrupo01/blob/main/Untitled1.ipynb\" target=\"_parent\"><img src=\"https://colab.research.google.com/assets/colab-badge.svg\" alt=\"Open In Colab\"/></a>"
      ]
    },
    {
      "cell_type": "code",
      "execution_count": 6,
      "metadata": {
        "colab": {
          "base_uri": "https://localhost:8080/"
        },
        "id": "Qig_wdfYAwjO",
        "outputId": "1f8bf717-aaea-4067-d4e3-93b9cfe9e8fd"
      },
      "outputs": [
        {
          "output_type": "stream",
          "name": "stdout",
          "text": [
            "hola mundo\n"
          ]
        }
      ],
      "source": [
        "print(\"hola mundo\")"
      ]
    },
    {
      "cell_type": "code",
      "source": [
        "print(\"Aprender a programar es simple\")\n"
      ],
      "metadata": {
        "colab": {
          "base_uri": "https://localhost:8080/"
        },
        "id": "COsgq-oRCm9O",
        "outputId": "81db9496-a3b7-4eaf-f949-8d0dd5d68f5f"
      },
      "execution_count": 7,
      "outputs": [
        {
          "output_type": "stream",
          "name": "stdout",
          "text": [
            "Aprender a programar es simple\n"
          ]
        }
      ]
    },
    {
      "cell_type": "code",
      "source": [
        "r= int(input())\n",
        "v= (4/3)*3.14*(r**3)\n",
        "print(round(v,2))"
      ],
      "metadata": {
        "colab": {
          "base_uri": "https://localhost:8080/"
        },
        "id": "5tkAchC2EmKR",
        "outputId": "44592b66-2723-4c5d-bccc-3336a3ddd4eb"
      },
      "execution_count": 8,
      "outputs": [
        {
          "output_type": "stream",
          "name": "stdout",
          "text": [
            "3\n",
            "113.04\n"
          ]
        }
      ]
    },
    {
      "cell_type": "code",
      "source": [
        "c1= int(input())\n",
        "c2= int(input())\n",
        "h= (c1**2 + c2**2)**(1/2)\n",
        "print(round(h,1))"
      ],
      "metadata": {
        "colab": {
          "base_uri": "https://localhost:8080/"
        },
        "id": "J-8apSrYE2db",
        "outputId": "63f17cb1-e71d-491a-9597-9d34752c7ef4"
      },
      "execution_count": 9,
      "outputs": [
        {
          "output_type": "stream",
          "name": "stdout",
          "text": [
            "3\n",
            "2\n",
            "3.6\n"
          ]
        }
      ]
    },
    {
      "cell_type": "code",
      "source": [
        "h=int(input())\n",
        "r=int(input())\n",
        "v=2*3.14*r*h+2*3.14*r**2\n",
        "print(round(v,2))\n"
      ],
      "metadata": {
        "colab": {
          "base_uri": "https://localhost:8080/"
        },
        "id": "mNyAkFeXFJFu",
        "outputId": "bca02cf9-3ef8-4430-e4b7-7db6c39ab0fa"
      },
      "execution_count": 10,
      "outputs": [
        {
          "output_type": "stream",
          "name": "stdout",
          "text": [
            "8\n",
            "3\n",
            "207.24\n"
          ]
        }
      ]
    }
  ]
}