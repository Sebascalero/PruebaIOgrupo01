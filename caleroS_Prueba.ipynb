{
  "nbformat": 4,
  "nbformat_minor": 0,
  "metadata": {
    "colab": {
      "provenance": [],
      "include_colab_link": true
    },
    "kernelspec": {
      "name": "python3",
      "display_name": "Python 3"
    },
    "language_info": {
      "name": "python"
    }
  },
  "cells": [
    {
      "cell_type": "markdown",
      "metadata": {
        "id": "view-in-github",
        "colab_type": "text"
      },
      "source": [
        "<a href=\"https://colab.research.google.com/github/Sebascalero/PruebaIOgrupo01/blob/main/caleroS_Prueba.ipynb\" target=\"_parent\"><img src=\"https://colab.research.google.com/assets/colab-badge.svg\" alt=\"Open In Colab\"/></a>"
      ]
    },
    {
      "cell_type": "code",
      "execution_count": null,
      "metadata": {
        "colab": {
          "base_uri": "https://localhost:8080/"
        },
        "id": "Qig_wdfYAwjO",
        "outputId": "1f8bf717-aaea-4067-d4e3-93b9cfe9e8fd"
      },
      "outputs": [
        {
          "output_type": "stream",
          "name": "stdout",
          "text": [
            "hola mundo\n"
          ]
        }
      ],
      "source": [
        "print(\"hola mundo\")"
      ]
    },
    {
      "cell_type": "code",
      "source": [
        "print(\"Aprender a programar es simple\")\n"
      ],
      "metadata": {
        "colab": {
          "base_uri": "https://localhost:8080/"
        },
        "id": "COsgq-oRCm9O",
        "outputId": "81db9496-a3b7-4eaf-f949-8d0dd5d68f5f"
      },
      "execution_count": null,
      "outputs": [
        {
          "output_type": "stream",
          "name": "stdout",
          "text": [
            "Aprender a programar es simple\n"
          ]
        }
      ]
    },
    {
      "cell_type": "code",
      "source": [
        "r= int(input())\n",
        "v= (4/3)*3.14*(r**3)\n",
        "print(round(v,2))"
      ],
      "metadata": {
        "colab": {
          "base_uri": "https://localhost:8080/"
        },
        "id": "5tkAchC2EmKR",
        "outputId": "44592b66-2723-4c5d-bccc-3336a3ddd4eb"
      },
      "execution_count": null,
      "outputs": [
        {
          "output_type": "stream",
          "name": "stdout",
          "text": [
            "3\n",
            "113.04\n"
          ]
        }
      ]
    },
    {
      "cell_type": "code",
      "source": [
        "c1= int(input())\n",
        "c2= int(input())\n",
        "h= (c1**2 + c2**2)**(1/2)\n",
        "print(round(h,1))"
      ],
      "metadata": {
        "colab": {
          "base_uri": "https://localhost:8080/"
        },
        "id": "J-8apSrYE2db",
        "outputId": "63f17cb1-e71d-491a-9597-9d34752c7ef4"
      },
      "execution_count": null,
      "outputs": [
        {
          "output_type": "stream",
          "name": "stdout",
          "text": [
            "3\n",
            "2\n",
            "3.6\n"
          ]
        }
      ]
    },
    {
      "cell_type": "code",
      "source": [
        "h=int(input())\n",
        "r=int(input())\n",
        "v=2*3.14*r*h+2*3.14*r**2\n",
        "print(round(v,2))\n"
      ],
      "metadata": {
        "colab": {
          "base_uri": "https://localhost:8080/"
        },
        "id": "mNyAkFeXFJFu",
        "outputId": "bca02cf9-3ef8-4430-e4b7-7db6c39ab0fa"
      },
      "execution_count": null,
      "outputs": [
        {
          "output_type": "stream",
          "name": "stdout",
          "text": [
            "8\n",
            "3\n",
            "207.24\n"
          ]
        }
      ]
    },
    {
      "cell_type": "code",
      "source": [
        "n1= float(input())\n",
        "n2= float(input())\n",
        "n3= float(input())\n",
        "n4= float(input())\n",
        "n5= float(input())\n",
        "p= ((n1+n2+n3+n4+n5)/5)\n",
        "print(round(p,1))"
      ],
      "metadata": {
        "colab": {
          "base_uri": "https://localhost:8080/"
        },
        "id": "sP4jBQW35y6V",
        "outputId": "2f44b591-16f5-4a85-b570-1ec608c3be33"
      },
      "execution_count": 7,
      "outputs": [
        {
          "output_type": "stream",
          "name": "stdout",
          "text": [
            "4.5\n",
            "5\n",
            "4\n",
            "4.2\n",
            "5\n",
            "4.5\n"
          ]
        }
      ]
    },
    {
      "cell_type": "code",
      "source": [
        "x1= int(input())\n",
        "y1= int(input())\n",
        "x2= int(input())\n",
        "y2= int(input())\n",
        "d= (((x2-x1)**2+(y2-y1)**2)**0.5)\n",
        "print(round(d,2))\n",
        " "
      ],
      "metadata": {
        "colab": {
          "base_uri": "https://localhost:8080/"
        },
        "id": "Wwqlmm4X6wYN",
        "outputId": "aab851ea-1b96-4b31-d387-459aa664b3f2"
      },
      "execution_count": 4,
      "outputs": [
        {
          "output_type": "stream",
          "name": "stdout",
          "text": [
            "7\n",
            "5\n",
            "4\n",
            "1\n",
            "5.0\n"
          ]
        }
      ]
    },
    {
      "cell_type": "code",
      "source": [
        "\n",
        "lista=[]\n",
        "for i in range(3):\n",
        "  lista.append(int(input()))\n",
        "aux=lista.copy()\n",
        "for i in range(3):\n",
        "  lista.extend(aux)\n",
        "print(lista[2:])\n"
      ],
      "metadata": {
        "id": "exDiHVmN45tL",
        "outputId": "8a2a447d-ae7c-473c-eb23-1327d6e47912",
        "colab": {
          "base_uri": "https://localhost:8080/"
        }
      },
      "execution_count": 17,
      "outputs": [
        {
          "output_type": "stream",
          "name": "stdout",
          "text": [
            "7\n",
            "5\n",
            "4\n",
            "[4, 7, 5, 4, 7, 5, 4, 7, 5, 4]\n"
          ]
        }
      ]
    },
    {
      "cell_type": "code",
      "source": [
        "lc1= int(input())\n",
        "lc2= int(input())\n",
        "a1= lc1*lc1\n",
        "a2= lc2*lc2\n",
        "da= a1-a2\n",
        "print(a1,a2,da)\n"
      ],
      "metadata": {
        "id": "tEHMWQRF5d8p",
        "outputId": "504f3771-3114-4a40-dbc3-c34875dd4319",
        "colab": {
          "base_uri": "https://localhost:8080/"
        }
      },
      "execution_count": 5,
      "outputs": [
        {
          "output_type": "stream",
          "name": "stdout",
          "text": [
            "2\n",
            "3\n",
            "4 9 -5\n"
          ]
        }
      ]
    }
  ]
}